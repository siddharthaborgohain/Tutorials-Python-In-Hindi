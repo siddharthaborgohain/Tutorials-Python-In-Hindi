{
  "nbformat": 4,
  "nbformat_minor": 0,
  "metadata": {
    "colab": {
      "name": "Z stats.ipynb",
      "provenance": [],
      "authorship_tag": "ABX9TyPRHq8+gx9YTmyX2/iu+8FX",
      "include_colab_link": true
    },
    "kernelspec": {
      "name": "python3",
      "display_name": "Python 3"
    },
    "language_info": {
      "name": "python"
    }
  },
  "cells": [
    {
      "cell_type": "markdown",
      "metadata": {
        "id": "view-in-github",
        "colab_type": "text"
      },
      "source": [
        "<a href=\"https://colab.research.google.com/github/siddharthaborgohain/Tutorials-Python-In-Hindi/blob/main/Z_stats.ipynb\" target=\"_parent\"><img src=\"https://colab.research.google.com/assets/colab-badge.svg\" alt=\"Open In Colab\"/></a>"
      ]
    },
    {
      "cell_type": "code",
      "execution_count": 1,
      "metadata": {
        "colab": {
          "base_uri": "https://localhost:8080/"
        },
        "id": "DV9yRjLi6T0f",
        "outputId": "e4ff1c41-8f5c-438e-d81a-9cbf405f7223"
      },
      "outputs": [
        {
          "output_type": "stream",
          "name": "stderr",
          "text": [
            "/usr/local/lib/python3.7/dist-packages/statsmodels/tools/_testing.py:19: FutureWarning: pandas.util.testing is deprecated. Use the functions in the public API at pandas.testing instead.\n",
            "  import pandas.util.testing as tm\n"
          ]
        }
      ],
      "source": [
        "from statsmodels.stats.weightstats import ztest as ztest\n",
        "\n",
        "#enter IQ levels for 20 patients"
      ]
    },
    {
      "cell_type": "code",
      "source": [
        "data= [88,92,94,94,96,97,97,97,99,99,\n",
        "       105,109,109,109,110,112,112,113,114,115]"
      ],
      "metadata": {
        "id": "ia6_on377H-o"
      },
      "execution_count": 3,
      "outputs": []
    },
    {
      "cell_type": "code",
      "source": [
        "ztest(data,value=100)"
      ],
      "metadata": {
        "colab": {
          "base_uri": "https://localhost:8080/"
        },
        "id": "agzoy9-B78jv",
        "outputId": "1a6cc639-a8eb-4f30-e020-80737592c41d"
      },
      "execution_count": 5,
      "outputs": [
        {
          "output_type": "execute_result",
          "data": {
            "text/plain": [
              "(1.5976240527147705, 0.1101266701438426)"
            ]
          },
          "metadata": {},
          "execution_count": 5
        }
      ]
    },
    {
      "cell_type": "code",
      "source": [
        "#  compare with p value so if alpha =0.05 then 0.1101  \n",
        "# is not less then CI so we reject the null hypothesis"
      ],
      "metadata": {
        "id": "HF-k5UO38E-8"
      },
      "execution_count": null,
      "outputs": []
    }
  ]
}